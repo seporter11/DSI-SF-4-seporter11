{
 "cells": [
  {
   "cell_type": "code",
   "execution_count": 65,
   "metadata": {
    "collapsed": true
   },
   "outputs": [],
   "source": [
    "import pandas as pd\n",
    "import numpy as np\n",
    "from datetime import datetime\n",
    "from datetime import date\n",
    "import time\n",
    "from time import mktime\n",
    "from matplotlib import pyplot as plt\n",
    "import seaborn as sns\n",
    "import patsy\n",
    "from patsy import dmatrices\n",
    "from sklearn import datasets, linear_model\n",
    "from sklearn.metrics import mean_squared_error\n",
    "from sklearn.linear_model import LogisticRegression, LinearRegression\n",
    "import statsmodels.api as sm\n",
    "import folium\n",
    "from pandas import *\n",
    "from folium.map import Icon, Marker, Popup\n",
    "import pickle\n",
    "\n",
    "plt.style.use('fivethirtyeight')\n",
    "%config InlineBackend.figure_format = 'retina'\n",
    "%matplotlib inline\n",
    "\n",
    "from IPython.core.interactiveshell import InteractiveShell\n",
    "InteractiveShell.ast_node_interactivity = \"all\""
   ]
  },
  {
   "cell_type": "code",
   "execution_count": 115,
   "metadata": {
    "collapsed": true
   },
   "outputs": [],
   "source": [
    "NY_merged_samp = pd.read_pickle('../../datasets/NY_merged_samp.pkl')"
   ]
  },
  {
   "cell_type": "code",
   "execution_count": 116,
   "metadata": {
    "collapsed": false
   },
   "outputs": [],
   "source": [
    "NY_merged_samp.columns = NY_merged_samp.columns.str.replace(' ', '_')\n",
    "NY_merged_samp.fillna(0, inplace=True)\n",
    "NY_merged_samp['DATE'] = pd.to_datetime(NY_merged_samp['DATE'])\n",
    "NY_merged_samp = NY_merged_samp.sort_values(by='DATE')\n",
    "NY_merged_samp = NY_merged_samp[NY_merged_samp['DATE'] < '01/01/2017']\n"
   ]
  },
  {
   "cell_type": "code",
   "execution_count": 170,
   "metadata": {
    "collapsed": true
   },
   "outputs": [],
   "source": [
    "def borough(col):\n",
    "    borough_cat = []\n",
    "    for i in col:\n",
    "        if i == 'BROOKLYN':\n",
    "            borough_cat.append(1)\n",
    "        elif i == 'MANHATTAN':\n",
    "            borough_cat.append(2)\n",
    "        elif i == 'QUEENS':\n",
    "            borough_cat.append(3)\n",
    "        elif i == 'BRONX':\n",
    "            borough_cat.append(4)\n",
    "        elif i == 'STATEN ISLAND':\n",
    "            borough_cat.append(5)\n",
    "        else:\n",
    "            borough_cat.append(0)\n",
    "    return borough_cat\n",
    "\n",
    "\n",
    "\n",
    "def month_extract(col):\n",
    "    MONTH = []\n",
    "    for i in col:\n",
    "        MONTH.append(i.month)\n",
    "    return MONTH\n",
    "\n",
    "## writing a function to extract the hour of the day from the datetime objects ('DATE' column) so that I can plot each \n",
    "## segment's volume of injury/death per each hour and see what time of day is most dangerous.\n",
    "\n",
    "def hour_extract(col):\n",
    "    HOUR = []\n",
    "    for i in col:\n",
    "        HOUR.append(i.hour)\n",
    "    return HOUR\n",
    "\n",
    "## making a function that will convert the Army time hour to a standard hour of the day (example: 20 --> 8pm)\n",
    "\n",
    "def army_convert(col):\n",
    "    std_hour = []\n",
    "    for i in col:\n",
    "        if i == 1:\n",
    "            std_hour.append('1am')\n",
    "        elif i == 2:\n",
    "            std_hour.append('2am')\n",
    "        elif i == 3:\n",
    "            std_hour.append('3am')\n",
    "        elif i == 4:\n",
    "            std_hour.append('4am')\n",
    "        elif i == 5:\n",
    "            std_hour.append('5am')\n",
    "        elif i == 6:\n",
    "            std_hour.append('6am')\n",
    "        elif i == 7:\n",
    "            std_hour.append('7am')\n",
    "        elif i == 8:\n",
    "            std_hour.append('8am')\n",
    "        elif i == 9:\n",
    "            std_hour.append('9am')\n",
    "        elif i == 10:\n",
    "            std_hour.append('10am')\n",
    "        elif i == 11:\n",
    "            std_hour.append('11am')\n",
    "        elif i == 12:\n",
    "            std_hour.append('12pm')\n",
    "        elif i == 13:\n",
    "            std_hour.append('1pm')\n",
    "        elif i == 14:\n",
    "            std_hour.append('2pm')\n",
    "        elif i == 15:\n",
    "            std_hour.append('3pm')\n",
    "        elif i == 16:\n",
    "            std_hour.append('4pm')\n",
    "        elif i == 17:\n",
    "            std_hour.append('5pm')\n",
    "        elif i == 18:\n",
    "            std_hour.append('6pm')\n",
    "        elif i == 19:\n",
    "            std_hour.append('7pm')\n",
    "        elif i == 20:\n",
    "            std_hour.append('8pm')\n",
    "        elif i == 21:\n",
    "            std_hour.append('9pm')\n",
    "        elif i == 22:\n",
    "            std_hour.append('10pm')\n",
    "        elif i == 23:\n",
    "            std_hour.append('11pm')\n",
    "        elif i == 0:\n",
    "            std_hour.append('12am')\n",
    "        else:\n",
    "            pass\n",
    "    \n",
    "    return std_hour\n",
    "        \n",
    "## making a function that creates a list containing a '1' if there was a cyclist injured/killed and a '0' if there were\n",
    "## no cyclists injured/killed\n",
    "\n",
    "def binary(col):\n",
    "    CYCLISTS_INJURED = []\n",
    "    for i in col:\n",
    "        if i > 0:\n",
    "            CYCLISTS_INJURED.append(1)\n",
    "        else:\n",
    "            CYCLISTS_INJURED.append(0)\n",
    "    return CYCLISTS_INJURED\n",
    "\n",
    "def weather(col):\n",
    "    rain = []\n",
    "    for i in col:\n",
    "        if i > 0:\n",
    "            rain.append(1)\n",
    "        else:\n",
    "            rain.append(0)\n",
    "    return rain\n",
    "\n",
    "## building a function that separates the amount of precipitation in NYC into 6 varying buckets of intensity (0:5)\n",
    "\n",
    "def precip(col):\n",
    "    precip_cat = []\n",
    "    for i in col:\n",
    "        if (i > 0) & (i <= 1.00):\n",
    "            precip_cat.append(1)\n",
    "        elif (i > 1.00) & (i <= 2.00):\n",
    "            precip_cat.append(2)\n",
    "        elif (i > 2.00) & (i <= 3.00):\n",
    "            precip_cat.append(3)\n",
    "        elif (i > 3.00) & (i <= 4.00):\n",
    "            precip_cat.append(4)\n",
    "        elif (i > 4.00) & (i <= 5.00):\n",
    "            precip_cat.append(5)\n",
    "        else:\n",
    "            precip_cat.append(0)\n",
    "    return precip_cat\n",
    "\n",
    "\n",
    "## building a function that separates the mean temperature/dewpoints of each day in NYC into 20+ buckets between \n",
    "## the range 0 and 100\n",
    "\n",
    "def temp(col):\n",
    "    temp_cat = []\n",
    "    for i in col:\n",
    "        if (i > -20) & (i <= -15):\n",
    "            temp_cat.append(-3)\n",
    "        elif (i > -15) & (i <= -10):\n",
    "            temp_cat.append(-2)\n",
    "        elif (i > -10) & (i <= -5):\n",
    "            temp_cat.append(-1)\n",
    "        elif (i > -5) & (i <= 0):\n",
    "            temp_cat.append(0)\n",
    "        elif (i > 0) & (i <= 5):\n",
    "            temp_cat.append(1)\n",
    "        elif (i > 5) & (i <= 10):\n",
    "            temp_cat.append(2)\n",
    "        elif (i > 10) & (i <= 15):\n",
    "            temp_cat.append(3)\n",
    "        elif (i > 15) & (i <= 20):\n",
    "            temp_cat.append(4)\n",
    "        elif (i > 20) & (i <= 25):\n",
    "            temp_cat.append(5)   \n",
    "        elif (i > 25) & (i <= 30):\n",
    "            temp_cat.append(6)    \n",
    "        elif (i > 30) & (i <= 35):\n",
    "            temp_cat.append(7)\n",
    "        elif (i > 35) & (i <= 40):\n",
    "            temp_cat.append(8)\n",
    "        elif (i > 40) & (i <= 45):\n",
    "            temp_cat.append(9)\n",
    "        elif (i > 45) & (i <= 50):\n",
    "            temp_cat.append(10)\n",
    "        elif (i > 45) & (i <= 50):\n",
    "            temp_cat.append(11)\n",
    "        elif (i > 50) & (i <= 55):\n",
    "            temp_cat.append(12)\n",
    "        elif (i > 55) & (i <= 60):\n",
    "            temp_cat.append(13)\n",
    "        elif (i > 60) & (i <= 65):\n",
    "            temp_cat.append(14)\n",
    "        elif (i > 65) & (i <= 70):\n",
    "            temp_cat.append(15)\n",
    "        elif (i > 70) & (i <= 75):\n",
    "            temp_cat.append(16)\n",
    "        elif (i > 75) & (i <= 80):\n",
    "            temp_cat.append(17)\n",
    "        elif (i > 80) & (i <= 85):\n",
    "            temp_cat.append(18)\n",
    "        elif (i > 85) & (i <= 90):\n",
    "            temp_cat.append(19)\n",
    "        elif (i > 90) & (i <= 95):\n",
    "            temp_cat.append(20)\n",
    "        else:\n",
    "            temp_cat.append('NA')\n",
    "    return temp_cat\n",
    "            \n",
    "            \n",
    "            "
   ]
  },
  {
   "cell_type": "code",
   "execution_count": 118,
   "metadata": {
    "collapsed": false
   },
   "outputs": [],
   "source": [
    "NY_merged_samp['PrecipitationIn'].replace(to_replace='T', value=0.00, inplace=True)\n",
    "NY_merged_samp['PrecipitationIn'] = NY_merged_samp['PrecipitationIn'].astype(float)"
   ]
  },
  {
   "cell_type": "code",
   "execution_count": 181,
   "metadata": {
    "collapsed": false
   },
   "outputs": [],
   "source": [
    "## setting up my features to include in my regression model\n",
    "\n",
    "# NY_merged_samp['borough_cat'] = borough(NY_merged_samp['BOROUGH'])\n",
    "# NY_merged_samp['precip_scale'] = precip(NY_merged_samp['PrecipitationIn'])\n",
    "# NY_merged_samp['MONTH'] = month_extract(NY_merged_samp['DATE'])\n",
    "# NY_merged_samp['CYCLISTS_INJURED'] = binary(NY_merged_samp['NUMBER_OF_CYCLIST_INJURED'])\n",
    "# NY_merged_samp['temp_cat'] = temp(NY_merged_samp['Mean_TemperatureF'])\n",
    "# NY_merged_samp['dew_cat'] = temp(NY_merged_samp['MeanDew_PointF'])\n",
    "# NY_merged_samp['humid_cat'] = temp(NY_merged_samp['_Mean_Humidity'])\n"
   ]
  },
  {
   "cell_type": "code",
   "execution_count": 180,
   "metadata": {
    "collapsed": false
   },
   "outputs": [
    {
     "data": {
      "text/plain": [
       "array([ 50.,  42.,  48.,  71.,  45.,  51.,  53.,  67.,  46.,  52.,  60.,\n",
       "        56.,  57.,  61.,  76.,  68.,  70.,  79.,  87.,  62.,  75.,  63.,\n",
       "        77.,  72.,  80.,  78.,  69.,  90.,  73.,  58.,  64.,  54.,  84.,\n",
       "        65.,  66.,  81.,  82.,  55.,  88.,  89.,  92.,  74.,  59.,  47.,\n",
       "        44.,  93.,  85.,  94.,  49.,  95.,  83.,  41.,  43.,  37.,  39.,\n",
       "        40.,  33.,  31.,  36.,  32.,  86.,  35.,  34.,  38.,  30.,  91.,\n",
       "        96.,  27.,  26.,  23.])"
      ]
     },
     "execution_count": 180,
     "metadata": {},
     "output_type": "execute_result"
    }
   ],
   "source": [
    "NY_merged_samp['_Mean_Humidity'].unique()"
   ]
  },
  {
   "cell_type": "code",
   "execution_count": 210,
   "metadata": {
    "collapsed": false
   },
   "outputs": [
    {
     "data": {
      "text/plain": [
       "Index([u'DATE', u'TIME', u'BOROUGH', u'ZIP_CODE', u'LATITUDE', u'LONGITUDE',\n",
       "       u'LOCATION', u'ON_STREET_NAME', u'CROSS_STREET_NAME',\n",
       "       u'OFF_STREET_NAME', u'NUMBER_OF_PERSONS_INJURED',\n",
       "       u'NUMBER_OF_PERSONS_KILLED', u'NUMBER_OF_PEDESTRIANS_INJURED',\n",
       "       u'NUMBER_OF_PEDESTRIANS_KILLED', u'NUMBER_OF_CYCLIST_INJURED',\n",
       "       u'NUMBER_OF_CYCLIST_KILLED', u'NUMBER_OF_MOTORIST_INJURED',\n",
       "       u'NUMBER_OF_MOTORIST_KILLED', u'CONTRIBUTING_FACTOR_VEHICLE_1',\n",
       "       u'CONTRIBUTING_FACTOR_VEHICLE_2', u'CONTRIBUTING_FACTOR_VEHICLE_3',\n",
       "       u'CONTRIBUTING_FACTOR_VEHICLE_4', u'CONTRIBUTING_FACTOR_VEHICLE_5',\n",
       "       u'UNIQUE_KEY', u'VEHICLE_TYPE_CODE_1', u'VEHICLE_TYPE_CODE_2',\n",
       "       u'VEHICLE_TYPE_CODE_3', u'VEHICLE_TYPE_CODE_4', u'VEHICLE_TYPE_CODE_5',\n",
       "       u'Max_TemperatureF', u'Mean_TemperatureF', u'Min_TemperatureF',\n",
       "       u'Max_Dew_PointF', u'MeanDew_PointF', u'Min_DewpointF', u'Max_Humidity',\n",
       "       u'_Mean_Humidity', u'_Min_Humidity', u'_Max_Sea_Level_PressureIn',\n",
       "       u'_Mean_Sea_Level_PressureIn', u'_Min_Sea_Level_PressureIn',\n",
       "       u'_Max_VisibilityMiles', u'_Mean_VisibilityMiles',\n",
       "       u'_Min_VisibilityMiles', u'_Max_Wind_SpeedMPH', u'_Mean_Wind_SpeedMPH',\n",
       "       u'_Max_Gust_SpeedMPH', u'PrecipitationIn', u'_CloudCover', u'_Events',\n",
       "       u'_WindDirDegrees<br_/>', u'borough_cat', u'precip_scale', u'MONTH',\n",
       "       u'CYCLISTS_INJURED', u'temp_cat', u'dew_cat', u'humid_cat'],\n",
       "      dtype='object')"
      ]
     },
     "execution_count": 210,
     "metadata": {},
     "output_type": "execute_result"
    }
   ],
   "source": [
    "NY_merged_samp.columns"
   ]
  },
  {
   "cell_type": "code",
   "execution_count": null,
   "metadata": {
    "collapsed": false,
    "scrolled": true
   },
   "outputs": [],
   "source": [
    "import itertools\n",
    "def expandgrid(*itrs):\n",
    "    product = list(itertools.product(*itrs))\n",
    "    return {'Var{}'.format(i+1):[x[i] for x in product] for i in range(len(itrs))}\n",
    "\n",
    "months = NY_merged_samp.MONTH.unique()\n",
    "pre_scale = NY_merged_samp['precip_scale'].unique()\n",
    "borough = NY_merged_samp['borough_cat'].unique()\n",
    "hour = NY_merged_samp.TIME.unique()\n",
    "temp_cat = NY_merged_samp.temp_cat.unique()\n",
    "dew_cat = NY_merged_samp.dew_cat.unique()\n",
    "humid_cat = NY_merged_samp.humid_cat.unique()\n",
    "cloud_cover = NY_merged_samp._CloudCover.unique()\n",
    "wind_speed = NY_merged_samp._Mean_Wind_SpeedMPH.unique()\n",
    "\n",
    "grid = expandgrid(months, pre_scale, borough, hour, temp_cat, dew_cat, humid_cat, cloud_cover, wind_speed)\n",
    "grid = pd.DataFrame(grid)\n",
    "grid.columns = ['months','precip','borough','hour', 'temp_cat', 'dew_cat', 'humid_cat', 'cloud_cover', 'wind_speed']\n",
    "\n",
    "grid['bike_injuries'] = 0.\n",
    "\n",
    "for m in months:\n",
    "    NY_1 = NY_merged_samp[(NY_merged_samp['MONTH'] == m) & (NY_merged_samp['CYCLISTS_INJURED'] > 0)]\n",
    "    for p in pre_scale:\n",
    "        print m, p\n",
    "        NY_2 = NY_1[NY_1['precip_scale'] == p]\n",
    "        for b in borough:\n",
    "            NY_3 = NY_2[NY_2['borough_cat'] == b]\n",
    "            for h in hour:\n",
    "                NY_4 = NY_3[NY_3['TIME'] == h]\n",
    "                for t in temp_cat:\n",
    "                    NY_5 = NY_4[NY_4['temp_cat'] == t]\n",
    "                    for d in dew_cat:\n",
    "                        NY_6 = NY_5[NY_5['dew_cat'] == d]\n",
    "                        for hm in humid_cat:\n",
    "                            NY_7 = NY_6[NY_6['humid_cat'] == hm]\n",
    "                            for c in cloud_cover:\n",
    "                                NY_8 = NY_7[NY_7['cloud_cover'] == c]\n",
    "                                for w in wind_speed:\n",
    "                                    ny_mask = (NY_8['wind_speed'] == w)\n",
    "                        \n",
    "                        \n",
    "                                    grid_mask = (grid.months == m) & (grid.precip == p) & \n",
    "                                    (grid.borough == b) & (grid.hour == h) & (grid.temp_cat == t) &\n",
    "                                    (grid.dew_cat == d) & (grid.humid_cat == hm) & (grid.cloud_cover == c) &\n",
    "                                    (grid.wind_speed == w)\n",
    "                                    \n",
    "                \n",
    "                                    injuries = NY_3.loc[ny_mask, 'CYCLISTS_INJURED'].sum()\n",
    "                                    grid.loc[grid_mask, 'bike_injuries'] = injuries\n"
   ]
  },
  {
   "cell_type": "code",
   "execution_count": 75,
   "metadata": {
    "collapsed": false,
    "scrolled": true
   },
   "outputs": [
    {
     "data": {
      "text/html": [
       "<div>\n",
       "<table border=\"1\" class=\"dataframe\">\n",
       "  <thead>\n",
       "    <tr style=\"text-align: right;\">\n",
       "      <th></th>\n",
       "      <th>months</th>\n",
       "      <th>precip</th>\n",
       "      <th>borough</th>\n",
       "      <th>hour</th>\n",
       "      <th>bike_injuries</th>\n",
       "    </tr>\n",
       "  </thead>\n",
       "  <tbody>\n",
       "    <tr>\n",
       "      <th>0</th>\n",
       "      <td>7</td>\n",
       "      <td>0</td>\n",
       "      <td>0</td>\n",
       "      <td>12</td>\n",
       "      <td>1.0</td>\n",
       "    </tr>\n",
       "    <tr>\n",
       "      <th>1</th>\n",
       "      <td>7</td>\n",
       "      <td>0</td>\n",
       "      <td>0</td>\n",
       "      <td>1</td>\n",
       "      <td>1.0</td>\n",
       "    </tr>\n",
       "    <tr>\n",
       "      <th>2</th>\n",
       "      <td>7</td>\n",
       "      <td>0</td>\n",
       "      <td>0</td>\n",
       "      <td>15</td>\n",
       "      <td>0.0</td>\n",
       "    </tr>\n",
       "    <tr>\n",
       "      <th>3</th>\n",
       "      <td>7</td>\n",
       "      <td>0</td>\n",
       "      <td>0</td>\n",
       "      <td>20</td>\n",
       "      <td>1.0</td>\n",
       "    </tr>\n",
       "    <tr>\n",
       "      <th>4</th>\n",
       "      <td>7</td>\n",
       "      <td>0</td>\n",
       "      <td>0</td>\n",
       "      <td>6</td>\n",
       "      <td>0.0</td>\n",
       "    </tr>\n",
       "  </tbody>\n",
       "</table>\n",
       "</div>"
      ],
      "text/plain": [
       "   months  precip  borough  hour  bike_injuries\n",
       "0       7       0        0    12            1.0\n",
       "1       7       0        0     1            1.0\n",
       "2       7       0        0    15            0.0\n",
       "3       7       0        0    20            1.0\n",
       "4       7       0        0     6            0.0"
      ]
     },
     "execution_count": 75,
     "metadata": {},
     "output_type": "execute_result"
    }
   ],
   "source": [
    "grid.head()"
   ]
  },
  {
   "cell_type": "code",
   "execution_count": 128,
   "metadata": {
    "collapsed": false
   },
   "outputs": [
    {
     "data": {
      "text/plain": [
       "hour\n",
       "0     33.0\n",
       "1     13.0\n",
       "2      3.0\n",
       "3      9.0\n",
       "4      3.0\n",
       "5      7.0\n",
       "6     13.0\n",
       "7     20.0\n",
       "8     34.0\n",
       "9     42.0\n",
       "10    24.0\n",
       "11    44.0\n",
       "12    47.0\n",
       "13    64.0\n",
       "14    49.0\n",
       "15    56.0\n",
       "16    82.0\n",
       "17    77.0\n",
       "18    77.0\n",
       "19    84.0\n",
       "20    67.0\n",
       "21    74.0\n",
       "22    29.0\n",
       "23    25.0\n",
       "Name: bike_injuries, dtype: float64"
      ]
     },
     "execution_count": 128,
     "metadata": {},
     "output_type": "execute_result"
    }
   ],
   "source": [
    "grid.groupby(['hour'])['bike_injuries'].sum()"
   ]
  },
  {
   "cell_type": "code",
   "execution_count": 208,
   "metadata": {
    "collapsed": false
   },
   "outputs": [
    {
     "data": {
      "text/plain": [
       "<matplotlib.axes._subplots.AxesSubplot at 0x129fa8f10>"
      ]
     },
     "execution_count": 208,
     "metadata": {},
     "output_type": "execute_result"
    },
    {
     "data": {
      "image/png": "[encoded data removed]",
      "text/plain": [
       "<matplotlib.figure.Figure at 0x12a08ab10>"
      ]
     },
     "metadata": {
      "image/png": {
       "height": 387,
       "width": 574
      }
     },
     "output_type": "display_data"
    }
   ],
   "source": [
    "NY_merged_samp.groupby(['_CloudCover'])['NUMBER_OF_CYCLIST_INJURED'].sum().plot(kind='bar')"
   ]
  },
  {
   "cell_type": "code",
   "execution_count": 93,
   "metadata": {
    "collapsed": false
   },
   "outputs": [],
   "source": [
    "## first I'm scaling my data\n",
    "\n",
    "from sklearn.preprocessing import StandardScaler\n",
    "\n",
    "scaler      =  StandardScaler()\n",
    "columns     =  ['months', 'precip', 'borough', 'hour', 'bike_injuries']\n",
    "grid[columns] =  scaler.fit_transform(grid[columns])"
   ]
  },
  {
   "cell_type": "code",
   "execution_count": 143,
   "metadata": {
    "collapsed": false
   },
   "outputs": [],
   "source": [
    "## next step- throw the model into patsy and the regression built \n",
    "\n",
    "formula = \"bike_injuries ~ C(months) + C(precip) + C(borough) + C(hour) -1\"\n",
    "y, X = patsy.dmatrices(formula, data=grid, return_type='dataframe')"
   ]
  },
  {
   "cell_type": "code",
   "execution_count": 141,
   "metadata": {
    "collapsed": true
   },
   "outputs": [],
   "source": [
    "from sklearn.preprocessing import StandardScaler\n",
    "\n",
    "scaler      =  StandardScaler()\n",
    "columns     =  ['months', 'bike_injuries']\n",
    "grid[columns] =  scaler.fit_transform(grid[columns])\n",
    "\n",
    "formula = \"bike_injuries ~ C(months)\"\n",
    "y, X = patsy.dmatrices(formula, data=grid, return_type='dataframe')"
   ]
  },
  {
   "cell_type": "code",
   "execution_count": 144,
   "metadata": {
    "collapsed": false
   },
   "outputs": [
    {
     "name": "stdout",
     "output_type": "stream",
     "text": [
      "R^2 score: 0.179829450403\n"
     ]
    }
   ],
   "source": [
    "from sklearn.linear_model import LinearRegression\n",
    "\n",
    "lm = LinearRegression()\n",
    "model = lm.fit(X, y)\n",
    "predictions  =  model.predict(X)\n",
    "score = model.score(X, y)\n",
    "    \n",
    "print \"R^2 score:\", score"
   ]
  },
  {
   "cell_type": "code",
   "execution_count": 102,
   "metadata": {
    "collapsed": false
   },
   "outputs": [
    {
     "data": {
      "text/plain": [
       "<matplotlib.figure.Figure at 0x117be2990>"
      ]
     },
     "execution_count": 102,
     "metadata": {},
     "output_type": "execute_result"
    },
    {
     "data": {
      "text/plain": [
       "<matplotlib.collections.PathCollection at 0x1161eba90>"
      ]
     },
     "execution_count": 102,
     "metadata": {},
     "output_type": "execute_result"
    },
    {
     "data": {
      "text/plain": [
       "<matplotlib.text.Text at 0x1179b3910>"
      ]
     },
     "execution_count": 102,
     "metadata": {},
     "output_type": "execute_result"
    },
    {
     "data": {
      "text/plain": [
       "<matplotlib.text.Text at 0x1161a2210>"
      ]
     },
     "execution_count": 102,
     "metadata": {},
     "output_type": "execute_result"
    },
    {
     "data": {
      "image/png": "[encoded data removed]",
      "text/plain": [
       "<matplotlib.figure.Figure at 0x117be2990>"
      ]
     },
     "metadata": {
      "image/png": {
       "height": 691,
       "width": 773
      }
     },
     "output_type": "display_data"
    }
   ],
   "source": [
    "plt.figure(figsize=(8,8))\n",
    "plt.scatter(predictions, y, s=30, c='r', marker='+', zorder=10)\n",
    "plt.xlabel(\"Predictors\")\n",
    "plt.ylabel(\"Cycling injuries\")\n",
    "plt.show()"
   ]
  },
  {
   "cell_type": "code",
   "execution_count": 103,
   "metadata": {
    "collapsed": false
   },
   "outputs": [
    {
     "name": "stdout",
     "output_type": "stream",
     "text": [
      "MSE: 0.820168960647\n",
      "\n",
      "COEFS: [('C(months)[-1.5932550136313832]', array([  1.43699746e+12,   1.43699746e+12,   1.43699746e+12,\n",
      "         1.43699746e+12,   1.43699746e+12,   1.43699746e+12,\n",
      "         1.43699746e+12,   1.43699746e+12,   1.43699746e+12,\n",
      "         1.43699746e+12,   1.43699746e+12,   1.43699746e+12,\n",
      "        -5.07162990e-01,  -8.90445367e-01,  -9.30914622e-01,\n",
      "        -9.30889615e-01,  -9.32359720e-01,   2.62217606e-01,\n",
      "         1.95692931e-01,   1.06025058e-01,  -7.90915529e-02,\n",
      "        -1.73097444e-01,  -1.18534436e-01,  -1.75315668e-01,\n",
      "        -1.40475300e-01,  -1.75315526e-01,  -1.52176112e-01,\n",
      "        -1.16950036e-01,  -7.69726945e-02,   4.01544473e-03,\n",
      "         5.02942487e-02,  -5.38332626e-02,   6.18639663e-02,\n",
      "         7.94229551e-02,   1.77959258e-01,   9.07885359e-02,\n",
      "         1.29475408e-01,   2.81405242e-01,   2.50679831e-01,\n",
      "         2.52765114e-01,   2.93258974e-01,   1.95506746e-01,\n",
      "         2.35234338e-01,  -2.49090697e-02,  -4.80485523e-02]))]\n",
      "\n",
      "SCORE/R^2: 0.179831039353\n"
     ]
    }
   ],
   "source": [
    "print \"MSE:\", mean_squared_error(y, predictions)\n",
    "\n",
    "print \n",
    "\n",
    "print \"COEFS:\", zip(X.columns, model.coef_)\n",
    "\n",
    "print \n",
    "\n",
    "print \"SCORE/R^2:\", model.score(X, y)"
   ]
  },
  {
   "cell_type": "code",
   "execution_count": 104,
   "metadata": {
    "collapsed": false
   },
   "outputs": [
    {
     "data": {
      "text/plain": [
       "<matplotlib.collections.PathCollection at 0x117cc5610>"
      ]
     },
     "execution_count": 104,
     "metadata": {},
     "output_type": "execute_result"
    },
    {
     "data": {
      "text/plain": [
       "<matplotlib.text.Text at 0x116158990>"
      ]
     },
     "execution_count": 104,
     "metadata": {},
     "output_type": "execute_result"
    },
    {
     "data": {
      "text/plain": [
       "<matplotlib.text.Text at 0x11616d310>"
      ]
     },
     "execution_count": 104,
     "metadata": {},
     "output_type": "execute_result"
    },
    {
     "data": {
      "text/plain": [
       "<matplotlib.legend.Legend at 0x117cc5d50>"
      ]
     },
     "execution_count": 104,
     "metadata": {},
     "output_type": "execute_result"
    },
    {
     "data": {
      "image/png": "[encoded data removed]",
      "text/plain": [
       "<matplotlib.figure.Figure at 0x1161e8550>"
      ]
     },
     "metadata": {
      "image/png": {
       "height": 618,
       "width": 689
      }
     },
     "output_type": "display_data"
    }
   ],
   "source": [
    "residuals = y - predictions\n",
    "\n",
    "fig = plt.figure(figsize=(7,7))\n",
    "ax = fig.gca()\n",
    "\n",
    "ax.scatter(y, residuals, color='forestgreen', s=70, label='true y - y hat', alpha=.50)\n",
    "\n",
    "max_x = np.max(y)+10\n",
    "\n",
    "ax.set_xlabel('y-hat', fontsize=16)\n",
    "ax.set_ylabel('Residuals', fontsize=16)\n",
    "\n",
    "plt.legend(loc='upper left')\n",
    "\n",
    "plt.show()"
   ]
  },
  {
   "cell_type": "code",
   "execution_count": 107,
   "metadata": {
    "collapsed": false
   },
   "outputs": [
    {
     "data": {
      "text/plain": [
       "(10368, 45)"
      ]
     },
     "execution_count": 107,
     "metadata": {},
     "output_type": "execute_result"
    }
   ],
   "source": [
    "X.shape"
   ]
  },
  {
   "cell_type": "code",
   "execution_count": 105,
   "metadata": {
    "collapsed": false,
    "scrolled": true
   },
   "outputs": [
    {
     "ename": "ValueError",
     "evalue": "Length mismatch: Expected axis has 1 elements, new values have 45 elements",
     "output_type": "error",
     "traceback": [
      "\u001b[0;31m---------------------------------------------------------------------------\u001b[0m",
      "\u001b[0;31mValueError\u001b[0m                                Traceback (most recent call last)",
      "\u001b[0;32m<ipython-input-105-447710a20ac2>\u001b[0m in \u001b[0;36m<module>\u001b[0;34m()\u001b[0m\n\u001b[1;32m      1\u001b[0m \u001b[0mstrength\u001b[0m \u001b[0;34m=\u001b[0m \u001b[0mpd\u001b[0m\u001b[0;34m.\u001b[0m\u001b[0mDataFrame\u001b[0m\u001b[0;34m(\u001b[0m\u001b[0mmodel\u001b[0m\u001b[0;34m.\u001b[0m\u001b[0mcoef_\u001b[0m\u001b[0;34m)\u001b[0m\u001b[0;34m\u001b[0m\u001b[0m\n\u001b[0;32m----> 2\u001b[0;31m \u001b[0mstrength\u001b[0m\u001b[0;34m.\u001b[0m\u001b[0mindex\u001b[0m \u001b[0;34m=\u001b[0m \u001b[0mX\u001b[0m\u001b[0;34m.\u001b[0m\u001b[0mcolumns\u001b[0m\u001b[0;34m\u001b[0m\u001b[0m\n\u001b[0m\u001b[1;32m      3\u001b[0m \u001b[0mstrength\u001b[0m\u001b[0;34m.\u001b[0m\u001b[0mplot\u001b[0m\u001b[0;34m(\u001b[0m\u001b[0mkind\u001b[0m\u001b[0;34m=\u001b[0m\u001b[0;34m\"bar\"\u001b[0m\u001b[0;34m)\u001b[0m\u001b[0;34m\u001b[0m\u001b[0m\n",
      "\u001b[0;32m//anaconda/envs/dsi/lib/python2.7/site-packages/pandas/core/generic.pyc\u001b[0m in \u001b[0;36m__setattr__\u001b[0;34m(self, name, value)\u001b[0m\n\u001b[1;32m   2683\u001b[0m         \u001b[0;32mtry\u001b[0m\u001b[0;34m:\u001b[0m\u001b[0;34m\u001b[0m\u001b[0m\n\u001b[1;32m   2684\u001b[0m             \u001b[0mobject\u001b[0m\u001b[0;34m.\u001b[0m\u001b[0m__getattribute__\u001b[0m\u001b[0;34m(\u001b[0m\u001b[0mself\u001b[0m\u001b[0;34m,\u001b[0m \u001b[0mname\u001b[0m\u001b[0;34m)\u001b[0m\u001b[0;34m\u001b[0m\u001b[0m\n\u001b[0;32m-> 2685\u001b[0;31m             \u001b[0;32mreturn\u001b[0m \u001b[0mobject\u001b[0m\u001b[0;34m.\u001b[0m\u001b[0m__setattr__\u001b[0m\u001b[0;34m(\u001b[0m\u001b[0mself\u001b[0m\u001b[0;34m,\u001b[0m \u001b[0mname\u001b[0m\u001b[0;34m,\u001b[0m \u001b[0mvalue\u001b[0m\u001b[0;34m)\u001b[0m\u001b[0;34m\u001b[0m\u001b[0m\n\u001b[0m\u001b[1;32m   2686\u001b[0m         \u001b[0;32mexcept\u001b[0m \u001b[0mAttributeError\u001b[0m\u001b[0;34m:\u001b[0m\u001b[0;34m\u001b[0m\u001b[0m\n\u001b[1;32m   2687\u001b[0m             \u001b[0;32mpass\u001b[0m\u001b[0;34m\u001b[0m\u001b[0m\n",
      "\u001b[0;32mpandas/src/properties.pyx\u001b[0m in \u001b[0;36mpandas.lib.AxisProperty.__set__ (pandas/lib.c:44748)\u001b[0;34m()\u001b[0m\n",
      "\u001b[0;32m//anaconda/envs/dsi/lib/python2.7/site-packages/pandas/core/generic.pyc\u001b[0m in \u001b[0;36m_set_axis\u001b[0;34m(self, axis, labels)\u001b[0m\n\u001b[1;32m    426\u001b[0m \u001b[0;34m\u001b[0m\u001b[0m\n\u001b[1;32m    427\u001b[0m     \u001b[0;32mdef\u001b[0m \u001b[0m_set_axis\u001b[0m\u001b[0;34m(\u001b[0m\u001b[0mself\u001b[0m\u001b[0;34m,\u001b[0m \u001b[0maxis\u001b[0m\u001b[0;34m,\u001b[0m \u001b[0mlabels\u001b[0m\u001b[0;34m)\u001b[0m\u001b[0;34m:\u001b[0m\u001b[0;34m\u001b[0m\u001b[0m\n\u001b[0;32m--> 428\u001b[0;31m         \u001b[0mself\u001b[0m\u001b[0;34m.\u001b[0m\u001b[0m_data\u001b[0m\u001b[0;34m.\u001b[0m\u001b[0mset_axis\u001b[0m\u001b[0;34m(\u001b[0m\u001b[0maxis\u001b[0m\u001b[0;34m,\u001b[0m \u001b[0mlabels\u001b[0m\u001b[0;34m)\u001b[0m\u001b[0;34m\u001b[0m\u001b[0m\n\u001b[0m\u001b[1;32m    429\u001b[0m         \u001b[0mself\u001b[0m\u001b[0;34m.\u001b[0m\u001b[0m_clear_item_cache\u001b[0m\u001b[0;34m(\u001b[0m\u001b[0;34m)\u001b[0m\u001b[0;34m\u001b[0m\u001b[0m\n\u001b[1;32m    430\u001b[0m \u001b[0;34m\u001b[0m\u001b[0m\n",
      "\u001b[0;32m//anaconda/envs/dsi/lib/python2.7/site-packages/pandas/core/internals.pyc\u001b[0m in \u001b[0;36mset_axis\u001b[0;34m(self, axis, new_labels)\u001b[0m\n\u001b[1;32m   2633\u001b[0m             raise ValueError('Length mismatch: Expected axis has %d elements, '\n\u001b[1;32m   2634\u001b[0m                              \u001b[0;34m'new values have %d elements'\u001b[0m \u001b[0;34m%\u001b[0m\u001b[0;34m\u001b[0m\u001b[0m\n\u001b[0;32m-> 2635\u001b[0;31m                              (old_len, new_len))\n\u001b[0m\u001b[1;32m   2636\u001b[0m \u001b[0;34m\u001b[0m\u001b[0m\n\u001b[1;32m   2637\u001b[0m         \u001b[0mself\u001b[0m\u001b[0;34m.\u001b[0m\u001b[0maxes\u001b[0m\u001b[0;34m[\u001b[0m\u001b[0maxis\u001b[0m\u001b[0;34m]\u001b[0m \u001b[0;34m=\u001b[0m \u001b[0mnew_labels\u001b[0m\u001b[0;34m\u001b[0m\u001b[0m\n",
      "\u001b[0;31mValueError\u001b[0m: Length mismatch: Expected axis has 1 elements, new values have 45 elements"
     ]
    }
   ],
   "source": [
    "strength = pd.DataFrame(model.coef_)\n",
    "strength.index = X.columns\n",
    "strength.plot(kind=\"bar\")"
   ]
  },
  {
   "cell_type": "code",
   "execution_count": null,
   "metadata": {
    "collapsed": true
   },
   "outputs": [],
   "source": []
  },
  {
   "cell_type": "code",
   "execution_count": null,
   "metadata": {
    "collapsed": true
   },
   "outputs": [],
   "source": []
  },
  {
   "cell_type": "code",
   "execution_count": null,
   "metadata": {
    "collapsed": true
   },
   "outputs": [],
   "source": []
  },
  {
   "cell_type": "code",
   "execution_count": null,
   "metadata": {
    "collapsed": true
   },
   "outputs": [],
   "source": []
  },
  {
   "cell_type": "code",
   "execution_count": null,
   "metadata": {
    "collapsed": true
   },
   "outputs": [],
   "source": []
  },
  {
   "cell_type": "code",
   "execution_count": null,
   "metadata": {
    "collapsed": true
   },
   "outputs": [],
   "source": []
  },
  {
   "cell_type": "code",
   "execution_count": null,
   "metadata": {
    "collapsed": true
   },
   "outputs": [],
   "source": []
  },
  {
   "cell_type": "code",
   "execution_count": null,
   "metadata": {
    "collapsed": true
   },
   "outputs": [],
   "source": []
  },
  {
   "cell_type": "code",
   "execution_count": null,
   "metadata": {
    "collapsed": true
   },
   "outputs": [],
   "source": []
  }
 ],
 "metadata": {
  "anaconda-cloud": {},
  "kernelspec": {
   "display_name": "Python [conda env:dsi]",
   "language": "python",
   "name": "conda-env-dsi-py"
  },
  "language_info": {
   "codemirror_mode": {
    "name": "ipython",
    "version": 2
   },
   "file_extension": ".py",
   "mimetype": "text/x-python",
   "name": "python",
   "nbconvert_exporter": "python",
   "pygments_lexer": "ipython2",
   "version": "2.7.12"
  }
 },
 "nbformat": 4,
 "nbformat_minor": 1
}
