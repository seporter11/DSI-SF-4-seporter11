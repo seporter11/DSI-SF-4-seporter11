{
 "cells": [
  {
   "cell_type": "markdown",
   "metadata": {},
   "source": [
    "## Importing libraries"
   ]
  },
  {
   "cell_type": "code",
   "execution_count": 274,
   "metadata": {
    "collapsed": false
   },
   "outputs": [],
   "source": [
    "import pandas as pd\n",
    "import numpy as np\n",
    "from datetime import datetime\n",
    "from datetime import date\n",
    "import time\n",
    "from time import mktime\n",
    "from matplotlib import pyplot as plt\n",
    "import seaborn as sns\n",
    "import patsy\n",
    "from sklearn import datasets, linear_model\n",
    "from sklearn.metrics import mean_squared_error\n",
    "from sklearn.linear_model import LogisticRegression, LinearRegression\n",
    "import statsmodels.api as sm\n",
    "\n",
    "from IPython.core.interactiveshell import InteractiveShell\n",
    "InteractiveShell.ast_node_interactivity = \"all\""
   ]
  },
  {
   "cell_type": "markdown",
   "metadata": {},
   "source": [
    "## Importing my datasets"
   ]
  },
  {
   "cell_type": "code",
   "execution_count": 151,
   "metadata": {
    "collapsed": false,
    "scrolled": true
   },
   "outputs": [],
   "source": [
    "# NY_bikes = pd.read_csv(\"../../../Desktop/datasets/NYPD_Motor_Vehicle_Collisions.csv\")\n",
    "# NY_bike_count = pd.read_csv(\"../../../Desktop/datasets/NYC_bike_count.csv\")\n",
    "# NY_bike_new = pd.read_csv(\"../../../Downloads/NYPD_Motor_Vehicle_Collisions.csv\")\n",
    "NY_bike = NY_bike_new\n",
    "\n",
    "# NY_weather_2012 = pd.read_csv(\n",
    "# 'https://www.wunderground.com/history/airport/KNYC/2012/1/1/CustomHistory.html?dayend=31&monthend=12&yearend=2012&req_city=&req_state=&req_statename=&reqdb.zip=&reqdb.magic=&reqdb.wmo=&format=1')\n",
    "\n",
    "# NY_weather_2013 = pd.read_csv(\n",
    "# 'https://www.wunderground.com/history/airport/KNYC/2013/1/1/CustomHistory.html?dayend=31&monthend=12&yearend=2013&req_city=&req_state=&req_statename=&reqdb.zip=&reqdb.magic=&reqdb.wmo=&format=1')\n",
    "\n",
    "# NY_weather_2014 = pd.read_csv(\n",
    "# 'https://www.wunderground.com/history/airport/KNYC/2014/1/1/CustomHistory.html?dayend=31&monthend=12&yearend=2014&req_city=&req_state=&req_statename=&reqdb.zip=&reqdb.magic=&reqdb.wmo=&format=1')\n",
    "\n",
    "# NY_weather_2015 = pd.read_csv(\n",
    "# 'https://www.wunderground.com/history/airport/KNYC/2015/1/1/CustomHistory.html?dayend=31&monthend=12&yearend=2015&req_city=&req_state=&req_statename=&reqdb.zip=&reqdb.magic=&reqdb.wmo=&format=1')\n"
   ]
  },
  {
   "cell_type": "code",
   "execution_count": 154,
   "metadata": {
    "collapsed": false,
    "scrolled": false
   },
   "outputs": [
    {
     "name": "stdout",
     "output_type": "stream",
     "text": [
      "<class 'pandas.core.frame.DataFrame'>\n",
      "RangeIndex: 959631 entries, 0 to 959630\n",
      "Data columns (total 29 columns):\n",
      "DATE                             959631 non-null object\n",
      "TIME                             959631 non-null object\n",
      "BOROUGH                          710155 non-null object\n",
      "ZIP CODE                         710061 non-null float64\n",
      "LATITUDE                         760788 non-null float64\n",
      "LONGITUDE                        760788 non-null float64\n",
      "LOCATION                         760788 non-null object\n",
      "ON STREET NAME                   782274 non-null object\n",
      "CROSS STREET NAME                757614 non-null object\n",
      "OFF STREET NAME                  66852 non-null object\n",
      "NUMBER OF PERSONS INJURED        959631 non-null int64\n",
      "NUMBER OF PERSONS KILLED         959631 non-null int64\n",
      "NUMBER OF PEDESTRIANS INJURED    959631 non-null int64\n",
      "NUMBER OF PEDESTRIANS KILLED     959631 non-null int64\n",
      "NUMBER OF CYCLIST INJURED        959631 non-null int64\n",
      "NUMBER OF CYCLIST KILLED         959631 non-null int64\n",
      "NUMBER OF MOTORIST INJURED       959631 non-null int64\n",
      "NUMBER OF MOTORIST KILLED        959631 non-null int64\n",
      "CONTRIBUTING FACTOR VEHICLE 1    955904 non-null object\n",
      "CONTRIBUTING FACTOR VEHICLE 2    842332 non-null object\n",
      "CONTRIBUTING FACTOR VEHICLE 3    63188 non-null object\n",
      "CONTRIBUTING FACTOR VEHICLE 4    13606 non-null object\n",
      "CONTRIBUTING FACTOR VEHICLE 5    3314 non-null object\n",
      "UNIQUE KEY                       959631 non-null int64\n",
      "VEHICLE TYPE CODE 1              955748 non-null object\n",
      "VEHICLE TYPE CODE 2              835486 non-null object\n",
      "VEHICLE TYPE CODE 3              62251 non-null object\n",
      "VEHICLE TYPE CODE 4              13297 non-null object\n",
      "VEHICLE TYPE CODE 5              3257 non-null object\n",
      "dtypes: float64(3), int64(9), object(17)\n",
      "memory usage: 212.3+ MB\n"
     ]
    }
   ],
   "source": [
    "NY_bike.info()"
   ]
  },
  {
   "cell_type": "markdown",
   "metadata": {},
   "source": [
    "## Munging data"
   ]
  },
  {
   "cell_type": "code",
   "execution_count": 163,
   "metadata": {
    "collapsed": false
   },
   "outputs": [],
   "source": [
    "# ## Replacing spaces(' ') in column header name with underscore('_')\n",
    "# NY_bike.columns = NY_bike.columns.str.replace(' ', '_')\n",
    "\n",
    "# # ## Filling all 'NaN' values with zeros\n",
    "# NY_bike.fillna(0, inplace=True)\n",
    "\n",
    "# # ## Converting the date/time columns to datetime\n",
    "# NY_bike['DATE'] =pd.to_datetime(NY_bike['DATE'])\n",
    "# NY_bike['TIME'] =pd.to_datetime(NY_bike['TIME'])\n",
    "\n",
    "# # ## Sorting the dataframe by date\n",
    "# NY_bike = NY_bike.sort_values(by='DATE')\n",
    "\n",
    "NY = NY_bike\n",
    "\n",
    "## Munging the weather data:\n",
    "\n",
    "# NY_weather_2012.columns = NY_weather_2012.columns.str.replace(' ', '_')\n",
    "# NY_weather_2013.columns = NY_weather_2013.columns.str.replace(' ', '_')\n",
    "# NY_weather_2014.columns = NY_weather_2014.columns.str.replace(' ', '_')\n",
    "# NY_weather_2015.columns = NY_weather_2015.columns.str.replace(' ', '_')\n",
    "\n",
    "# NY_weather_2012.rename(columns={'EST': 'DATE'}, inplace=True)\n",
    "# NY_weather_2013.rename(columns={'EST': 'DATE'}, inplace=True)\n",
    "# NY_weather_2014.rename(columns={'EST': 'DATE'}, inplace=True)\n",
    "# NY_weather_2015.rename(columns={'EST': 'DATE'}, inplace=True)\n",
    "\n",
    "# NY_weather_2012.fillna(0, inplace=True)\n",
    "# NY_weather_2013.fillna(0, inplace=True)\n",
    "# NY_weather_2014.fillna(0, inplace=True)\n",
    "# NY_weather_2015.fillna(0, inplace=True)\n",
    "\n",
    "# NY_weather_2012['DATE'] = pd.to_datetime(NY_weather_2012['DATE'])\n",
    "# NY_weather_2013['DATE'] = pd.to_datetime(NY_weather_2013['DATE'])\n",
    "# NY_weather_2014['DATE'] = pd.to_datetime(NY_weather_2014['DATE'])\n",
    "# NY_weather_2015['DATE'] = pd.to_datetime(NY_weather_2015['DATE'])"
   ]
  },
  {
   "cell_type": "code",
   "execution_count": 203,
   "metadata": {
    "collapsed": false
   },
   "outputs": [],
   "source": [
    "# _2012_mask = (NY_bike['DATE'] >= '07/01/2012') & (NY_bike['DATE'] <= '12/31/2012')\n",
    "# _2012 = NY_bike[_2012_mask]\n",
    "# _2012_mask2 = ((_2012['NUMBER_OF_CYCLIST_INJURED'] != 0) | (_2012['NUMBER_OF_CYCLIST_KILLED'] != 0))\n",
    "# _2012 = _2012[_2012_mask2]\n",
    "# _2012.index = _2012.DATE"
   ]
  },
  {
   "cell_type": "code",
   "execution_count": 204,
   "metadata": {
    "collapsed": false
   },
   "outputs": [],
   "source": [
    "# pv = pd.pivot_table(_2012, index=_2012.index.month, columns=_2012.NUMBER_OF_CYCLIST_INJURED,\n",
    "#                     values='NUMBER_OF_CYCLIST_INJURED', aggfunc='sum')\n",
    "\n",
    "# pv"
   ]
  },
  {
   "cell_type": "code",
   "execution_count": 224,
   "metadata": {
    "collapsed": false,
    "scrolled": true
   },
   "outputs": [
    {
     "data": {
      "text/html": [
       "<div>\n",
       "<table border=\"1\" class=\"dataframe\">\n",
       "  <thead>\n",
       "    <tr style=\"text-align: right;\">\n",
       "      <th></th>\n",
       "      <th>ZIP_CODE</th>\n",
       "      <th>LATITUDE</th>\n",
       "      <th>LONGITUDE</th>\n",
       "      <th>NUMBER_OF_PERSONS_INJURED</th>\n",
       "      <th>NUMBER_OF_PERSONS_KILLED</th>\n",
       "      <th>NUMBER_OF_PEDESTRIANS_INJURED</th>\n",
       "      <th>NUMBER_OF_PEDESTRIANS_KILLED</th>\n",
       "      <th>NUMBER_OF_CYCLIST_INJURED</th>\n",
       "      <th>NUMBER_OF_CYCLIST_KILLED</th>\n",
       "      <th>NUMBER_OF_MOTORIST_INJURED</th>\n",
       "      <th>NUMBER_OF_MOTORIST_KILLED</th>\n",
       "      <th>UNIQUE_KEY</th>\n",
       "      <th>DATE</th>\n",
       "    </tr>\n",
       "    <tr>\n",
       "      <th>DATE</th>\n",
       "      <th></th>\n",
       "      <th></th>\n",
       "      <th></th>\n",
       "      <th></th>\n",
       "      <th></th>\n",
       "      <th></th>\n",
       "      <th></th>\n",
       "      <th></th>\n",
       "      <th></th>\n",
       "      <th></th>\n",
       "      <th></th>\n",
       "      <th></th>\n",
       "      <th></th>\n",
       "    </tr>\n",
       "  </thead>\n",
       "  <tbody>\n",
       "    <tr>\n",
       "      <th>2012-07-31</th>\n",
       "      <td>4509150.0</td>\n",
       "      <td>17019.048482</td>\n",
       "      <td>-30904.311358</td>\n",
       "      <td>467</td>\n",
       "      <td>3</td>\n",
       "      <td>5</td>\n",
       "      <td>0</td>\n",
       "      <td>450</td>\n",
       "      <td>3</td>\n",
       "      <td>12</td>\n",
       "      <td>0</td>\n",
       "      <td>68656421</td>\n",
       "      <td>2012-07-31</td>\n",
       "    </tr>\n",
       "    <tr>\n",
       "      <th>2012-08-31</th>\n",
       "      <td>4931034.0</td>\n",
       "      <td>18566.402693</td>\n",
       "      <td>-33715.570553</td>\n",
       "      <td>514</td>\n",
       "      <td>1</td>\n",
       "      <td>1</td>\n",
       "      <td>0</td>\n",
       "      <td>507</td>\n",
       "      <td>1</td>\n",
       "      <td>6</td>\n",
       "      <td>0</td>\n",
       "      <td>73782755</td>\n",
       "      <td>2012-08-31</td>\n",
       "    </tr>\n",
       "    <tr>\n",
       "      <th>2012-09-30</th>\n",
       "      <td>4274452.0</td>\n",
       "      <td>16042.987702</td>\n",
       "      <td>-29131.519185</td>\n",
       "      <td>441</td>\n",
       "      <td>1</td>\n",
       "      <td>0</td>\n",
       "      <td>0</td>\n",
       "      <td>433</td>\n",
       "      <td>1</td>\n",
       "      <td>8</td>\n",
       "      <td>0</td>\n",
       "      <td>65796421</td>\n",
       "      <td>2012-09-30</td>\n",
       "    </tr>\n",
       "    <tr>\n",
       "      <th>2012-10-31</th>\n",
       "      <td>3232313.0</td>\n",
       "      <td>12132.647221</td>\n",
       "      <td>-22034.408049</td>\n",
       "      <td>338</td>\n",
       "      <td>1</td>\n",
       "      <td>0</td>\n",
       "      <td>0</td>\n",
       "      <td>332</td>\n",
       "      <td>1</td>\n",
       "      <td>6</td>\n",
       "      <td>0</td>\n",
       "      <td>53825737</td>\n",
       "      <td>2012-10-31</td>\n",
       "    </tr>\n",
       "    <tr>\n",
       "      <th>2012-11-30</th>\n",
       "      <td>2743410.0</td>\n",
       "      <td>10301.197699</td>\n",
       "      <td>-18706.562393</td>\n",
       "      <td>277</td>\n",
       "      <td>0</td>\n",
       "      <td>0</td>\n",
       "      <td>0</td>\n",
       "      <td>276</td>\n",
       "      <td>0</td>\n",
       "      <td>1</td>\n",
       "      <td>0</td>\n",
       "      <td>44729326</td>\n",
       "      <td>2012-11-30</td>\n",
       "    </tr>\n",
       "    <tr>\n",
       "      <th>2012-12-31</th>\n",
       "      <td>2121735.0</td>\n",
       "      <td>7980.198866</td>\n",
       "      <td>-14493.183052</td>\n",
       "      <td>212</td>\n",
       "      <td>0</td>\n",
       "      <td>0</td>\n",
       "      <td>0</td>\n",
       "      <td>212</td>\n",
       "      <td>0</td>\n",
       "      <td>0</td>\n",
       "      <td>0</td>\n",
       "      <td>28411661</td>\n",
       "      <td>2012-12-31</td>\n",
       "    </tr>\n",
       "  </tbody>\n",
       "</table>\n",
       "</div>"
      ],
      "text/plain": [
       "             ZIP_CODE      LATITUDE     LONGITUDE  NUMBER_OF_PERSONS_INJURED  \\\n",
       "DATE                                                                           \n",
       "2012-07-31  4509150.0  17019.048482 -30904.311358                        467   \n",
       "2012-08-31  4931034.0  18566.402693 -33715.570553                        514   \n",
       "2012-09-30  4274452.0  16042.987702 -29131.519185                        441   \n",
       "2012-10-31  3232313.0  12132.647221 -22034.408049                        338   \n",
       "2012-11-30  2743410.0  10301.197699 -18706.562393                        277   \n",
       "2012-12-31  2121735.0   7980.198866 -14493.183052                        212   \n",
       "\n",
       "            NUMBER_OF_PERSONS_KILLED  NUMBER_OF_PEDESTRIANS_INJURED  \\\n",
       "DATE                                                                  \n",
       "2012-07-31                         3                              5   \n",
       "2012-08-31                         1                              1   \n",
       "2012-09-30                         1                              0   \n",
       "2012-10-31                         1                              0   \n",
       "2012-11-30                         0                              0   \n",
       "2012-12-31                         0                              0   \n",
       "\n",
       "            NUMBER_OF_PEDESTRIANS_KILLED  NUMBER_OF_CYCLIST_INJURED  \\\n",
       "DATE                                                                  \n",
       "2012-07-31                             0                        450   \n",
       "2012-08-31                             0                        507   \n",
       "2012-09-30                             0                        433   \n",
       "2012-10-31                             0                        332   \n",
       "2012-11-30                             0                        276   \n",
       "2012-12-31                             0                        212   \n",
       "\n",
       "            NUMBER_OF_CYCLIST_KILLED  NUMBER_OF_MOTORIST_INJURED  \\\n",
       "DATE                                                               \n",
       "2012-07-31                         3                          12   \n",
       "2012-08-31                         1                           6   \n",
       "2012-09-30                         1                           8   \n",
       "2012-10-31                         1                           6   \n",
       "2012-11-30                         0                           1   \n",
       "2012-12-31                         0                           0   \n",
       "\n",
       "            NUMBER_OF_MOTORIST_KILLED  UNIQUE_KEY       DATE  \n",
       "DATE                                                          \n",
       "2012-07-31                          0    68656421 2012-07-31  \n",
       "2012-08-31                          0    73782755 2012-08-31  \n",
       "2012-09-30                          0    65796421 2012-09-30  \n",
       "2012-10-31                          0    53825737 2012-10-31  \n",
       "2012-11-30                          0    44729326 2012-11-30  \n",
       "2012-12-31                          0    28411661 2012-12-31  "
      ]
     },
     "execution_count": 224,
     "metadata": {},
     "output_type": "execute_result"
    }
   ],
   "source": [
    "# _2012_ = _2012.resample(\"M\", how='sum')\n",
    "_2012_['DATE'] = _2012_.index\n",
    "_2012_"
   ]
  },
  {
   "cell_type": "code",
   "execution_count": 257,
   "metadata": {
    "collapsed": false,
    "scrolled": true
   },
   "outputs": [
    {
     "data": {
      "text/plain": [
       "DATE\n",
       "2012-07-31    3\n",
       "2012-08-31    1\n",
       "2012-09-30    1\n",
       "2012-10-31    1\n",
       "2012-11-30    0\n",
       "2012-12-31    0\n",
       "Freq: M, Name: NUMBER_OF_CYCLIST_KILLED, dtype: int64"
      ]
     },
     "execution_count": 257,
     "metadata": {},
     "output_type": "execute_result"
    }
   ],
   "source": [
    "_2012_.NUMBER_OF_CYCLIST_KILLED"
   ]
  },
  {
   "cell_type": "code",
   "execution_count": null,
   "metadata": {
    "collapsed": false
   },
   "outputs": [],
   "source": []
  },
  {
   "cell_type": "code",
   "execution_count": 264,
   "metadata": {
    "collapsed": false,
    "scrolled": false
   },
   "outputs": [
    {
     "data": {
      "text/plain": [
       "[<matplotlib.text.Text at 0x1d3571fd0>, <matplotlib.text.Text at 0x1d321aa90>]"
      ]
     },
     "execution_count": 264,
     "metadata": {},
     "output_type": "execute_result"
    },
    {
     "data": {
      "text/plain": [
       "[<matplotlib.text.Text at 0x1d3650f50>, <matplotlib.text.Text at 0x1d3646090>]"
      ]
     },
     "execution_count": 264,
     "metadata": {},
     "output_type": "execute_result"
    },
    {
     "data": {
      "image/png": "[encoded data removed]",
      "text/plain": [
       "<matplotlib.figure.Figure at 0x1d25e4e90>"
      ]
     },
     "metadata": {},
     "output_type": "display_data"
    },
    {
     "data": {
      "image/png": "[encoded data removed]",
      "text/plain": [
       "<matplotlib.figure.Figure at 0x1d31b1c90>"
      ]
     },
     "metadata": {},
     "output_type": "display_data"
    }
   ],
   "source": [
    "ax = _2012_.plot(x='DATE', y='NUMBER_OF_CYCLIST_INJURED', color='green', kind='bar', title='Cyclists injured in 2012')\n",
    "ax.set(xlabel=\"MONTH\", ylabel=\"Cyclists injured\")\n",
    "ax = _2012_.plot(x='DATE', y='NUMBER_OF_CYCLIST_KILLED', color='red', kind='bar', title='Cyclists killed in 2012')\n",
    "ax.set(xlabel=\"MONTH\", ylabel=\"Cyclists killed\")\n",
    "plt.show()"
   ]
  },
  {
   "cell_type": "code",
   "execution_count": 159,
   "metadata": {
    "collapsed": false,
    "scrolled": true
   },
   "outputs": [],
   "source": [
    "## separating my dataframe into quarters for trend analysis (number of accidents over time) and masking those\n",
    "## dataframes to only show those instances in which cyclists were injured or killed.\n",
    "\n",
    "# ## q3 2012:\n",
    "q3_12_mask = (NY_bike['DATE'] >= '07/01/2012') & (NY_bike['DATE'] <= '09/30/2012')\n",
    "q3_12 = NY_bike[q3_12_mask]\n",
    "q3_12_mask2 = ((q3_12['NUMBER_OF_CYCLIST_INJURED'] != 0) | (q3_12['NUMBER_OF_CYCLIST_KILLED'] != 0))\n",
    "q3_12 = q3_12[q3_12_mask2]\n",
    "\n",
    "## q4 2012:\n",
    "q4_12_mask = (NY_bike['DATE'] >= '10/01/2012') & (NY_bike['DATE'] <= '12/31/2012')\n",
    "q4_12 = NY_bike[q4_12_mask]\n",
    "q4_12_mask2 = ((q4_12['NUMBER_OF_CYCLIST_INJURED'] != 0) | (q4_12['NUMBER_OF_CYCLIST_KILLED'] != 0))\n",
    "q4_12 = q4_12[q4_12_mask2]\n",
    "\n",
    "# ## q1 2013:\n",
    "q1_13_mask = (NY_bike['DATE'] >= '01/01/2013') & (NY_bike['DATE'] <= '03/31/2013')\n",
    "q1_13 = NY_bike[q1_13_mask]\n",
    "q1_13_mask2 = ((q1_13['NUMBER_OF_CYCLIST_INJURED'] != 0) | (q1_13['NUMBER_OF_CYCLIST_KILLED'] != 0))\n",
    "q1_13 = q1_13[q1_13_mask2]\n",
    "\n",
    "# ## q2 2013:\n",
    "q2_13_mask = (NY_bike['DATE'] >= '04/01/2013') & (NY_bike['DATE'] <= '06/30/2013')\n",
    "q2_13 = NY_bike[q2_13_mask]\n",
    "q2_13_mask2 = ((q2_13['NUMBER_OF_CYCLIST_INJURED'] != 0) | (q2_13['NUMBER_OF_CYCLIST_KILLED'] != 0))\n",
    "q2_13 = q2_13[q2_13_mask2]\n",
    "\n",
    "# ## q3 2013:\n",
    "q3_13_mask = (NY_bike['DATE'] >= '07/01/2013') & (NY_bike['DATE'] <= '09/30/2013')\n",
    "q3_13 = NY_bike[q3_13_mask]\n",
    "q3_13_mask2 = ((q3_13['NUMBER_OF_CYCLIST_INJURED'] != 0) | (q3_13['NUMBER_OF_CYCLIST_KILLED'] != 0))\n",
    "q3_13 = q3_13[q3_13_mask2]\n",
    "\n",
    "# ## q4 2013:\n",
    "q4_13_mask = (NY_bike['DATE'] >= '10/01/2013') & (NY_bike['DATE'] <= '12/31/2013')\n",
    "q4_13 = NY_bike[q4_13_mask]\n",
    "q4_13_mask2 = ((q4_13['NUMBER_OF_CYCLIST_INJURED'] != 0) | (q4_13['NUMBER_OF_CYCLIST_KILLED'] != 0))\n",
    "q4_13 = q4_13[q4_13_mask2]\n",
    "\n",
    "# ## q1 2014\n",
    "q1_14_mask = (NY_bike['DATE'] >= '01/01/2014') & (NY_bike['DATE'] <= '03/31/2014')\n",
    "q1_14 = NY_bike[q1_14_mask]\n",
    "q1_14_mask2 = ((q1_14['NUMBER_OF_CYCLIST_INJURED'] != 0) | (q1_14['NUMBER_OF_CYCLIST_KILLED'] != 0))\n",
    "q1_14 = q1_14[q1_14_mask2]\n",
    "\n",
    "# ## q2 2014:\n",
    "q2_14_mask = (NY_bike['DATE'] >= '04/01/2014') & (NY_bike['DATE'] <= '06/30/2014')\n",
    "q2_14 = NY_bike[q2_14_mask]\n",
    "q2_14_mask2 = ((q2_14['NUMBER_OF_CYCLIST_INJURED'] != 0) | (q2_14['NUMBER_OF_CYCLIST_KILLED'] != 0))\n",
    "q2_14 = q2_14[q2_14_mask2]\n",
    "\n",
    "# ## q3 2014:\n",
    "q3_14_mask = (NY_bike['DATE'] >= '07/01/2014') & (NY_bike['DATE'] <= '09/30/2014')\n",
    "q3_14 = NY_bike[q3_14_mask]\n",
    "q3_14_mask2 = ((q3_14['NUMBER_OF_CYCLIST_INJURED'] != 0) | (q3_14['NUMBER_OF_CYCLIST_KILLED'] != 0))\n",
    "q3_14 = q3_14[q3_14_mask2]\n",
    "\n",
    "# ## q4 2014:\n",
    "q4_14_mask = (NY_bike['DATE'] >= '10/01/2014') & (NY_bike['DATE'] <= '12/31/2014')\n",
    "q4_14 = NY_bike[q4_14_mask]\n",
    "q4_14_mask2 = ((q4_14['NUMBER_OF_CYCLIST_INJURED'] != 0) | (q4_14['NUMBER_OF_CYCLIST_KILLED'] != 0))\n",
    "q4_14 = q4_14[q4_14_mask2]\n",
    "\n",
    "# ## q1 2015:\n",
    "q1_15_mask = (NY_bike['DATE'] >= '01/01/2015') & (NY_bike['DATE'] <= '03/31/2015')\n",
    "q1_15 = NY_bike[q1_15_mask]\n",
    "q1_15_mask2 = ((q1_15['NUMBER_OF_CYCLIST_INJURED'] != 0) | (q1_15['NUMBER_OF_CYCLIST_KILLED'] != 0))\n",
    "q1_15 = q1_15[q1_15_mask2]\n",
    "\n",
    "# ## q2 2015:\n",
    "q2_15_mask = (NY_bike['DATE'] >= '04/01/2015') & (NY_bike['DATE'] <= '06/30/2015')\n",
    "q2_15 = NY_bike[q2_15_mask]\n",
    "q2_15_mask2 = ((q2_15['NUMBER_OF_CYCLIST_INJURED'] != 0) | (q2_15['NUMBER_OF_CYCLIST_KILLED'] != 0))\n",
    "q2_15 = q2_15[q2_15_mask2]\n",
    "\n",
    "# ## q3 2015\n",
    "q3_15_mask = (NY_bike['DATE'] >= '07/01/2015') & (NY_bike['DATE'] <= '09/30/2015')\n",
    "q3_15 = NY_bike[q3_15_mask]\n",
    "q3_15_mask2 = ((q3_15['NUMBER_OF_CYCLIST_INJURED'] != 0) | (q3_15['NUMBER_OF_CYCLIST_KILLED'] != 0))\n",
    "q3_15 = q3_15[q3_15_mask2]\n",
    "\n",
    "# ## q4 2015\n",
    "q4_15_mask = (NY_bike['DATE'] >= '10/01/2015') & (NY_bike['DATE'] <= '12/31/2015')\n",
    "q4_15 = NY_bike[q4_15_mask]\n",
    "q4_15_mask2 = ((q4_15['NUMBER_OF_CYCLIST_INJURED'] != 0) | (q4_15['NUMBER_OF_CYCLIST_KILLED'] != 0))\n",
    "q4_15 = q4_15[q4_15_mask2]\n",
    "\n",
    "# ##q1 2016\n",
    "q1_16_mask = (NY_bike['DATE'] >= '01/01/2016') & (NY_bike['DATE'] <= '03/31/2016')\n",
    "q1_16 = NY_bike[q1_16_mask]\n",
    "q1_16_mask2 = ((q1_16['NUMBER_OF_CYCLIST_INJURED'] != 0) | (q1_16['NUMBER_OF_CYCLIST_KILLED'] != 0))\n",
    "q1_16 = q1_16[q1_16_mask2]\n",
    "\n",
    "# ##q2 2016\n",
    "q2_16_mask = (NY_bike['DATE'] >= '04/01/2016') & (NY_bike['DATE'] <= '06/30/2016')\n",
    "q2_16 = NY_bike[q2_16_mask]\n",
    "q2_16_mask2 = ((q2_16['NUMBER_OF_CYCLIST_INJURED'] != 0) | (q2_16['NUMBER_OF_CYCLIST_KILLED'] != 0))\n",
    "q2_16 = q2_16[q2_16_mask2]\n",
    "\n",
    "# ##q3 2016\n",
    "q3_16_mask = (NY_bike['DATE'] >= '07/01/2016') & (NY_bike['DATE'] <= '09/30/2016')\n",
    "q3_16 = NY_bike[q3_16_mask]\n",
    "q3_16_mask2 = ((q3_16['NUMBER_OF_CYCLIST_INJURED'] != 0) | (q3_16['NUMBER_OF_CYCLIST_KILLED'] != 0))\n",
    "q3_16 = q3_16[q3_16_mask2]\n",
    "\n",
    "# ##q4 2016\n",
    "q4_16_mask = (NY_bike['DATE'] >= '10/01/2016') & (NY_bike['DATE'] <= '12/31/2016')\n",
    "q4_16 = NY_bike[q4_16_mask]\n",
    "q4_16_mask2 = ((q4_16['NUMBER_OF_CYCLIST_INJURED'] != 0) | (q4_16['NUMBER_OF_CYCLIST_KILLED'] != 0))\n",
    "q4_16 = q4_16[q4_16_mask2]\n"
   ]
  },
  {
   "cell_type": "code",
   "execution_count": 276,
   "metadata": {
    "collapsed": false,
    "scrolled": true
   },
   "outputs": [],
   "source": [
    "d = date.today()"
   ]
  },
  {
   "cell_type": "code",
   "execution_count": 277,
   "metadata": {
    "collapsed": false
   },
   "outputs": [
    {
     "data": {
      "text/plain": [
       "1"
      ]
     },
     "execution_count": 277,
     "metadata": {},
     "output_type": "execute_result"
    }
   ],
   "source": [
    "d.month"
   ]
  },
  {
   "cell_type": "code",
   "execution_count": 287,
   "metadata": {
    "collapsed": false
   },
   "outputs": [],
   "source": [
    "## writing a function to extract the month from the datetime objects so that I can plot each month's aggregated totals\n",
    "## for each month\n",
    "\n",
    "def month_extract(col):\n",
    "    MONTH = []\n",
    "    for i in col:\n",
    "        MONTH.append(i.month)\n",
    "    return MONTH"
   ]
  },
  {
   "cell_type": "code",
   "execution_count": 299,
   "metadata": {
    "collapsed": false
   },
   "outputs": [],
   "source": [
    "## creating a new column('MONTH') in the quarterly dataframes using the function previously made\n",
    "\n",
    "# q3_12['MONTH'] = month_extract(q3_12['DATE'])\n",
    "# q4_12['MONTH'] = month_extract(q4_12['DATE'])\n",
    "# q1_13['MONTH'] = month_extract(q1_13['DATE'])\n",
    "# q2_13['MONTH'] = month_extract(q2_13['DATE'])\n",
    "# q3_13['MONTH'] = month_extract(q3_13['DATE'])\n",
    "# q4_13['MONTH'] = month_extract(q4_13['DATE'])\n",
    "# q1_14['MONTH'] = month_extract(q1_14['DATE'])\n",
    "# q2_14['MONTH'] = month_extract(q2_14['DATE'])\n",
    "# q3_14['MONTH'] = month_extract(q3_14['DATE'])\n",
    "# q4_14['MONTH'] = month_extract(q4_14['DATE'])\n",
    "# q1_15['MONTH'] = month_extract(q1_15['DATE'])\n",
    "# q2_15['MONTH'] = month_extract(q2_15['DATE'])\n",
    "# q3_15['MONTH'] = month_extract(q3_15['DATE'])\n",
    "# q4_15['MONTH'] = month_extract(q4_15['DATE'])\n",
    "# q1_16['MONTH'] = month_extract(q1_16['DATE'])\n",
    "# q2_16['MONTH'] = month_extract(q2_16['DATE'])\n",
    "# q3_16['MONTH'] = month_extract(q3_16['DATE'])\n",
    "# q4_16['MONTH'] = month_extract(q4_16['DATE'])"
   ]
  },
  {
   "cell_type": "code",
   "execution_count": 315,
   "metadata": {
    "collapsed": false,
    "scrolled": false
   },
   "outputs": [
    {
     "data": {
      "text/plain": [
       "<matplotlib.axes._subplots.AxesSubplot at 0x1d37226d0>"
      ]
     },
     "execution_count": 315,
     "metadata": {},
     "output_type": "execute_result"
    },
    {
     "data": {
      "image/png": "[encoded data removed]",
      "text/plain": [
       "<matplotlib.figure.Figure at 0x1d35fe6d0>"
      ]
     },
     "metadata": {},
     "output_type": "display_data"
    }
   ],
   "source": [
    "q3_12.groupby(['MONTH'])['NUMBER_OF_CYCLIST_INJURED'].sum().plot(kind='bar')\n",
    "plt.show()"
   ]
  },
  {
   "cell_type": "code",
   "execution_count": 164,
   "metadata": {
    "collapsed": false,
    "scrolled": true
   },
   "outputs": [
    {
     "data": {
      "text/plain": [
       "BOROUGH\n",
       "0                2736\n",
       "BRONX            1600\n",
       "BROOKLYN         7034\n",
       "MANHATTAN        5286\n",
       "QUEENS           3455\n",
       "STATEN ISLAND     179\n",
       "Name: NUMBER_OF_CYCLIST_INJURED, dtype: int64"
      ]
     },
     "execution_count": 164,
     "metadata": {},
     "output_type": "execute_result"
    },
    {
     "data": {
      "text/plain": [
       "BOROUGH\n",
       "0                15\n",
       "BRONX             7\n",
       "BROOKLYN         22\n",
       "MANHATTAN        12\n",
       "QUEENS           17\n",
       "STATEN ISLAND     2\n",
       "Name: NUMBER_OF_CYCLIST_KILLED, dtype: int64"
      ]
     },
     "execution_count": 164,
     "metadata": {},
     "output_type": "execute_result"
    }
   ],
   "source": [
    "NY.groupby(['BOROUGH'])['NUMBER_OF_CYCLIST_INJURED'].sum()\n",
    "NY.groupby(['BOROUGH'])['NUMBER_OF_CYCLIST_KILLED'].sum()"
   ]
  },
  {
   "cell_type": "code",
   "execution_count": 166,
   "metadata": {
    "collapsed": false
   },
   "outputs": [
    {
     "name": "stdout",
     "output_type": "stream",
     "text": [
      "<class 'pandas.core.frame.DataFrame'>\n",
      "Int64Index: 2445 entries, 823633 to 25126\n",
      "Data columns (total 29 columns):\n",
      "DATE                             2445 non-null datetime64[ns]\n",
      "TIME                             2445 non-null datetime64[ns]\n",
      "BOROUGH                          2445 non-null object\n",
      "ZIP_CODE                         2445 non-null float64\n",
      "LATITUDE                         2445 non-null float64\n",
      "LONGITUDE                        2445 non-null float64\n",
      "LOCATION                         2445 non-null object\n",
      "ON_STREET_NAME                   2445 non-null object\n",
      "CROSS_STREET_NAME                2445 non-null object\n",
      "OFF_STREET_NAME                  2445 non-null object\n",
      "NUMBER_OF_PERSONS_INJURED        2445 non-null int64\n",
      "NUMBER_OF_PERSONS_KILLED         2445 non-null int64\n",
      "NUMBER_OF_PEDESTRIANS_INJURED    2445 non-null int64\n",
      "NUMBER_OF_PEDESTRIANS_KILLED     2445 non-null int64\n",
      "NUMBER_OF_CYCLIST_INJURED        2445 non-null int64\n",
      "NUMBER_OF_CYCLIST_KILLED         2445 non-null int64\n",
      "NUMBER_OF_MOTORIST_INJURED       2445 non-null int64\n",
      "NUMBER_OF_MOTORIST_KILLED        2445 non-null int64\n",
      "CONTRIBUTING_FACTOR_VEHICLE_1    2445 non-null object\n",
      "CONTRIBUTING_FACTOR_VEHICLE_2    2445 non-null object\n",
      "CONTRIBUTING_FACTOR_VEHICLE_3    2445 non-null object\n",
      "CONTRIBUTING_FACTOR_VEHICLE_4    2445 non-null object\n",
      "CONTRIBUTING_FACTOR_VEHICLE_5    2445 non-null object\n",
      "UNIQUE_KEY                       2445 non-null int64\n",
      "VEHICLE_TYPE_CODE_1              2445 non-null object\n",
      "VEHICLE_TYPE_CODE_2              2445 non-null object\n",
      "VEHICLE_TYPE_CODE_3              2445 non-null object\n",
      "VEHICLE_TYPE_CODE_4              2445 non-null object\n",
      "VEHICLE_TYPE_CODE_5              2445 non-null object\n",
      "dtypes: datetime64[ns](2), float64(3), int64(9), object(15)\n",
      "memory usage: 573.0+ KB\n"
     ]
    }
   ],
   "source": [
    "## There were 2736 cyclists that were injured and 15 cyclists that were killed over the span between 2012 through 2015\n",
    "## that occurred in the borough '0'. \n",
    "\n",
    "## I masked my dataset to show only those collisions in borough '0' so that I can investigate further.\n",
    "\n",
    "NY_0 = NY[NY['BOROUGH'] == 0]\n",
    "NY_0_mask = NY_0[(NY_0['NUMBER_OF_CYCLIST_INJURED'] != 0) | (NY_0['NUMBER_OF_CYCLIST_KILLED'] != 0)]\n",
    "NY_0_mask.info()"
   ]
  },
  {
   "cell_type": "code",
   "execution_count": 107,
   "metadata": {
    "collapsed": false
   },
   "outputs": [
    {
     "data": {
      "text/plain": [
       "1283"
      ]
     },
     "execution_count": 107,
     "metadata": {},
     "output_type": "execute_result"
    }
   ],
   "source": [
    "NY_0_mask.NUMBER_OF_CYCLIST_KILLED.count()"
   ]
  },
  {
   "cell_type": "code",
   "execution_count": 6,
   "metadata": {
    "collapsed": false,
    "scrolled": true
   },
   "outputs": [
    {
     "data": {
      "text/plain": [
       "array(['STATEN ISLAND', 0, 'BROOKLYN', 'BRONX', 'QUEENS', 'MANHATTAN'], dtype=object)"
      ]
     },
     "execution_count": 6,
     "metadata": {},
     "output_type": "execute_result"
    }
   ],
   "source": [
    "NY.BOROUGH.unique()"
   ]
  },
  {
   "cell_type": "code",
   "execution_count": 120,
   "metadata": {
    "collapsed": true
   },
   "outputs": [],
   "source": [
    "##Passing a mask so that I can filter out those rows that contain a zero in either the Latitude or the Longitude columns\n",
    "##so I can plot the points on the folium map.\n",
    "\n",
    "NY_mask2 = (NY[NY['LATITUDE'] != 0])"
   ]
  },
  {
   "cell_type": "code",
   "execution_count": 142,
   "metadata": {
    "collapsed": false
   },
   "outputs": [],
   "source": [
    "NY_mask3 = NY_mask2.head()"
   ]
  },
  {
   "cell_type": "code",
   "execution_count": 143,
   "metadata": {
    "collapsed": false
   },
   "outputs": [
    {
     "data": {
      "text/html": [
       "<div>\n",
       "<table border=\"1\" class=\"dataframe\">\n",
       "  <thead>\n",
       "    <tr style=\"text-align: right;\">\n",
       "      <th></th>\n",
       "      <th>DATE</th>\n",
       "      <th>TIME</th>\n",
       "      <th>BOROUGH</th>\n",
       "      <th>ZIP_CODE</th>\n",
       "      <th>LATITUDE</th>\n",
       "      <th>LONGITUDE</th>\n",
       "      <th>LOCATION</th>\n",
       "      <th>ON_STREET_NAME</th>\n",
       "      <th>CROSS_STREET_NAME</th>\n",
       "      <th>OFF_STREET_NAME</th>\n",
       "      <th>...</th>\n",
       "      <th>CONTRIBUTING_FACTOR_VEHICLE_2</th>\n",
       "      <th>CONTRIBUTING_FACTOR_VEHICLE_3</th>\n",
       "      <th>CONTRIBUTING_FACTOR_VEHICLE_4</th>\n",
       "      <th>CONTRIBUTING_FACTOR_VEHICLE_5</th>\n",
       "      <th>UNIQUE_KEY</th>\n",
       "      <th>VEHICLE_TYPE_CODE_1</th>\n",
       "      <th>VEHICLE_TYPE_CODE_2</th>\n",
       "      <th>VEHICLE_TYPE_CODE_3</th>\n",
       "      <th>VEHICLE_TYPE_CODE_4</th>\n",
       "      <th>VEHICLE_TYPE_CODE_5</th>\n",
       "    </tr>\n",
       "  </thead>\n",
       "  <tbody>\n",
       "    <tr>\n",
       "      <th>937042</th>\n",
       "      <td>2012-07-01</td>\n",
       "      <td>2017-01-09 09:15:00</td>\n",
       "      <td>STATEN ISLAND</td>\n",
       "      <td>10310.0</td>\n",
       "      <td>40.634748</td>\n",
       "      <td>-74.112253</td>\n",
       "      <td>(40.6347476, -74.1122528)</td>\n",
       "      <td>CASTLETON AVENUE</td>\n",
       "      <td>BEMENT AVENUE</td>\n",
       "      <td>0</td>\n",
       "      <td>...</td>\n",
       "      <td>Unspecified</td>\n",
       "      <td>0</td>\n",
       "      <td>0</td>\n",
       "      <td>0</td>\n",
       "      <td>284646</td>\n",
       "      <td>PASSENGER VEHICLE</td>\n",
       "      <td>PASSENGER VEHICLE</td>\n",
       "      <td>0</td>\n",
       "      <td>0</td>\n",
       "      <td>0</td>\n",
       "    </tr>\n",
       "    <tr>\n",
       "      <th>801457</th>\n",
       "      <td>2012-07-01</td>\n",
       "      <td>2017-01-09 17:10:00</td>\n",
       "      <td>0</td>\n",
       "      <td>0.0</td>\n",
       "      <td>40.806346</td>\n",
       "      <td>-73.933172</td>\n",
       "      <td>(40.8063462, -73.9331715)</td>\n",
       "      <td>0</td>\n",
       "      <td>0</td>\n",
       "      <td>0</td>\n",
       "      <td>...</td>\n",
       "      <td>Unspecified</td>\n",
       "      <td>Unspecified</td>\n",
       "      <td>Unspecified</td>\n",
       "      <td>0</td>\n",
       "      <td>2864058</td>\n",
       "      <td>SPORT UTILITY / STATION WAGON</td>\n",
       "      <td>PASSENGER VEHICLE</td>\n",
       "      <td>PASSENGER VEHICLE</td>\n",
       "      <td>PASSENGER VEHICLE</td>\n",
       "      <td>0</td>\n",
       "    </tr>\n",
       "    <tr>\n",
       "      <th>801456</th>\n",
       "      <td>2012-07-01</td>\n",
       "      <td>2017-01-09 17:05:00</td>\n",
       "      <td>BROOKLYN</td>\n",
       "      <td>11225.0</td>\n",
       "      <td>40.657837</td>\n",
       "      <td>-73.950327</td>\n",
       "      <td>(40.6578369, -73.9503273)</td>\n",
       "      <td>NOSTRAND AVENUE</td>\n",
       "      <td>HAWTHORNE STREET</td>\n",
       "      <td>0</td>\n",
       "      <td>...</td>\n",
       "      <td>Unspecified</td>\n",
       "      <td>0</td>\n",
       "      <td>0</td>\n",
       "      <td>0</td>\n",
       "      <td>152364</td>\n",
       "      <td>PASSENGER VEHICLE</td>\n",
       "      <td>PASSENGER VEHICLE</td>\n",
       "      <td>0</td>\n",
       "      <td>0</td>\n",
       "      <td>0</td>\n",
       "    </tr>\n",
       "    <tr>\n",
       "      <th>801455</th>\n",
       "      <td>2012-07-01</td>\n",
       "      <td>2017-01-09 17:00:00</td>\n",
       "      <td>BROOKLYN</td>\n",
       "      <td>11231.0</td>\n",
       "      <td>40.673149</td>\n",
       "      <td>-74.012441</td>\n",
       "      <td>(40.673149, -74.0124409)</td>\n",
       "      <td>DWIGHT STREET</td>\n",
       "      <td>BEARD STREET</td>\n",
       "      <td>0</td>\n",
       "      <td>...</td>\n",
       "      <td>Unspecified</td>\n",
       "      <td>0</td>\n",
       "      <td>0</td>\n",
       "      <td>0</td>\n",
       "      <td>170750</td>\n",
       "      <td>PASSENGER VEHICLE</td>\n",
       "      <td>PASSENGER VEHICLE</td>\n",
       "      <td>0</td>\n",
       "      <td>0</td>\n",
       "      <td>0</td>\n",
       "    </tr>\n",
       "    <tr>\n",
       "      <th>801454</th>\n",
       "      <td>2012-07-01</td>\n",
       "      <td>2017-01-09 17:00:00</td>\n",
       "      <td>0</td>\n",
       "      <td>0.0</td>\n",
       "      <td>40.853709</td>\n",
       "      <td>-73.871857</td>\n",
       "      <td>(40.8537088, -73.8718573)</td>\n",
       "      <td>0</td>\n",
       "      <td>0</td>\n",
       "      <td>0</td>\n",
       "      <td>...</td>\n",
       "      <td>Unspecified</td>\n",
       "      <td>0</td>\n",
       "      <td>0</td>\n",
       "      <td>0</td>\n",
       "      <td>2937606</td>\n",
       "      <td>PASSENGER VEHICLE</td>\n",
       "      <td>PICK-UP TRUCK</td>\n",
       "      <td>0</td>\n",
       "      <td>0</td>\n",
       "      <td>0</td>\n",
       "    </tr>\n",
       "  </tbody>\n",
       "</table>\n",
       "<p>5 rows × 29 columns</p>\n",
       "</div>"
      ],
      "text/plain": [
       "             DATE                TIME        BOROUGH  ZIP_CODE   LATITUDE  \\\n",
       "937042 2012-07-01 2017-01-09 09:15:00  STATEN ISLAND   10310.0  40.634748   \n",
       "801457 2012-07-01 2017-01-09 17:10:00              0       0.0  40.806346   \n",
       "801456 2012-07-01 2017-01-09 17:05:00       BROOKLYN   11225.0  40.657837   \n",
       "801455 2012-07-01 2017-01-09 17:00:00       BROOKLYN   11231.0  40.673149   \n",
       "801454 2012-07-01 2017-01-09 17:00:00              0       0.0  40.853709   \n",
       "\n",
       "        LONGITUDE                   LOCATION    ON_STREET_NAME  \\\n",
       "937042 -74.112253  (40.6347476, -74.1122528)  CASTLETON AVENUE   \n",
       "801457 -73.933172  (40.8063462, -73.9331715)                 0   \n",
       "801456 -73.950327  (40.6578369, -73.9503273)   NOSTRAND AVENUE   \n",
       "801455 -74.012441   (40.673149, -74.0124409)     DWIGHT STREET   \n",
       "801454 -73.871857  (40.8537088, -73.8718573)                 0   \n",
       "\n",
       "       CROSS_STREET_NAME OFF_STREET_NAME         ...          \\\n",
       "937042     BEMENT AVENUE               0         ...           \n",
       "801457                 0               0         ...           \n",
       "801456  HAWTHORNE STREET               0         ...           \n",
       "801455      BEARD STREET               0         ...           \n",
       "801454                 0               0         ...           \n",
       "\n",
       "        CONTRIBUTING_FACTOR_VEHICLE_2  CONTRIBUTING_FACTOR_VEHICLE_3  \\\n",
       "937042                    Unspecified                              0   \n",
       "801457                    Unspecified                    Unspecified   \n",
       "801456                    Unspecified                              0   \n",
       "801455                    Unspecified                              0   \n",
       "801454                    Unspecified                              0   \n",
       "\n",
       "        CONTRIBUTING_FACTOR_VEHICLE_4  CONTRIBUTING_FACTOR_VEHICLE_5  \\\n",
       "937042                              0                              0   \n",
       "801457                    Unspecified                              0   \n",
       "801456                              0                              0   \n",
       "801455                              0                              0   \n",
       "801454                              0                              0   \n",
       "\n",
       "        UNIQUE_KEY            VEHICLE_TYPE_CODE_1  VEHICLE_TYPE_CODE_2  \\\n",
       "937042      284646              PASSENGER VEHICLE    PASSENGER VEHICLE   \n",
       "801457     2864058  SPORT UTILITY / STATION WAGON    PASSENGER VEHICLE   \n",
       "801456      152364              PASSENGER VEHICLE    PASSENGER VEHICLE   \n",
       "801455      170750              PASSENGER VEHICLE    PASSENGER VEHICLE   \n",
       "801454     2937606              PASSENGER VEHICLE        PICK-UP TRUCK   \n",
       "\n",
       "        VEHICLE_TYPE_CODE_3 VEHICLE_TYPE_CODE_4 VEHICLE_TYPE_CODE_5  \n",
       "937042                    0                   0                   0  \n",
       "801457    PASSENGER VEHICLE   PASSENGER VEHICLE                   0  \n",
       "801456                    0                   0                   0  \n",
       "801455                    0                   0                   0  \n",
       "801454                    0                   0                   0  \n",
       "\n",
       "[5 rows x 29 columns]"
      ]
     },
     "execution_count": 143,
     "metadata": {},
     "output_type": "execute_result"
    }
   ],
   "source": [
    "NY_mask3"
   ]
  },
  {
   "cell_type": "code",
   "execution_count": 81,
   "metadata": {
    "collapsed": false,
    "scrolled": false
   },
   "outputs": [
    {
     "data": {
      "text/plain": [
       "<folium.map.Marker at 0x11c3476d0>"
      ]
     },
     "execution_count": 81,
     "metadata": {},
     "output_type": "execute_result"
    },
    {
     "data": {
      "text/plain": [
       "<folium.map.Marker at 0x11c4b4510>"
      ]
     },
     "execution_count": 81,
     "metadata": {},
     "output_type": "execute_result"
    },
    {
     "data": {
      "text/html": [
       "<div style=\"width:100%;\"><div style=\"position:relative;width:100%;height:0;padding-bottom:60%;\"><iframe src=\"data:text/html;base64,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\" style=\"position:absolute;width:100%;height:100%;left:0;top:0;\"></iframe></div></div>"
      ],
      "text/plain": [
       "<folium.folium.Map at 0x1163a0910>"
      ]
     },
     "execution_count": 81,
     "metadata": {},
     "output_type": "execute_result"
    }
   ],
   "source": [
    "import folium\n",
    "\n",
    "map_1 = folium.Map(location=[40.6347476, -74.1122528],\n",
    "                   tiles = 'Stamen Terrain',\n",
    "           zoom_start=10)\n",
    "\n",
    "for i in range(len(q3_12)):\n",
    "    folium.Marker((q3_12['LATITUDE'], q3_12['LONGITUDE']))\n",
    "\n",
    "# folium.Marker((40.6347476, -74.1122528) ,icon=folium.Icon(icon='cloud')).add_to(map_1)\n",
    "# folium.Marker((40.8063462, -73.9331715) ,icon=folium.Icon(icon='cloud')).add_to(map_1)\n",
    "\n",
    "map_1"
   ]
  },
  {
   "cell_type": "code",
   "execution_count": null,
   "metadata": {
    "collapsed": false
   },
   "outputs": [],
   "source": []
  },
  {
   "cell_type": "code",
   "execution_count": 116,
   "metadata": {
    "collapsed": false,
    "scrolled": false
   },
   "outputs": [],
   "source": [
    "##Manual bike count DF\n",
    "NY_bike_count['Year'] = pd.to_datetime(NY_bike_count['Year'])"
   ]
  },
  {
   "cell_type": "code",
   "execution_count": 25,
   "metadata": {
    "collapsed": false,
    "scrolled": true
   },
   "outputs": [
    {
     "data": {
      "text/plain": [
       "Year\n",
       "2005     7160\n",
       "2006     6968\n",
       "2007     8608\n",
       "2008     9482\n",
       "2009     9972\n",
       "2010    10607\n",
       "2011     9973\n",
       "2012    11199\n",
       "2013    14983\n",
       "2014    14599\n",
       "2015    17502\n",
       "Name: CyclistVolume, dtype: int64"
      ]
     },
     "execution_count": 25,
     "metadata": {},
     "output_type": "execute_result"
    }
   ],
   "source": [
    "NY_bike_count.groupby(['Year'])['CyclistVolume'].sum()"
   ]
  },
  {
   "cell_type": "code",
   "execution_count": null,
   "metadata": {
    "collapsed": true
   },
   "outputs": [],
   "source": []
  },
  {
   "cell_type": "code",
   "execution_count": null,
   "metadata": {
    "collapsed": false
   },
   "outputs": [],
   "source": []
  },
  {
   "cell_type": "code",
   "execution_count": 43,
   "metadata": {
    "collapsed": false
   },
   "outputs": [
    {
     "data": {
      "text/plain": [
       "14560"
      ]
     },
     "execution_count": 43,
     "metadata": {},
     "output_type": "execute_result"
    }
   ],
   "source": [
    "NY.NUMBER_OF_CYCLIST_INJURED.sum()"
   ]
  },
  {
   "cell_type": "code",
   "execution_count": 44,
   "metadata": {
    "collapsed": false,
    "scrolled": true
   },
   "outputs": [
    {
     "data": {
      "text/plain": [
       "1279"
      ]
     },
     "execution_count": 44,
     "metadata": {},
     "output_type": "execute_result"
    }
   ],
   "source": [
    "NY_injuries = NY.groupby(['DATE'])['NUMBER_OF_CYCLIST_INJURED'].sum().sort_values(ascending=False)\n",
    "NY_injuries.count()"
   ]
  },
  {
   "cell_type": "code",
   "execution_count": 51,
   "metadata": {
    "collapsed": false
   },
   "outputs": [],
   "source": [
    "##What time of day do the majority of bike accidents occur?\n",
    "\n",
    "# NY_bikes.groupby(['TIME'])['NUMBER OF CYCLIST KILLED'].sum().sort_values(ascending=False)"
   ]
  },
  {
   "cell_type": "code",
   "execution_count": null,
   "metadata": {
    "collapsed": false,
    "scrolled": true
   },
   "outputs": [],
   "source": []
  },
  {
   "cell_type": "code",
   "execution_count": null,
   "metadata": {
    "collapsed": false,
    "scrolled": true
   },
   "outputs": [],
   "source": []
  },
  {
   "cell_type": "code",
   "execution_count": null,
   "metadata": {
    "collapsed": false,
    "scrolled": true
   },
   "outputs": [],
   "source": []
  },
  {
   "cell_type": "code",
   "execution_count": null,
   "metadata": {
    "collapsed": false,
    "scrolled": true
   },
   "outputs": [],
   "source": []
  },
  {
   "cell_type": "code",
   "execution_count": null,
   "metadata": {
    "collapsed": false
   },
   "outputs": [],
   "source": []
  },
  {
   "cell_type": "code",
   "execution_count": null,
   "metadata": {
    "collapsed": true
   },
   "outputs": [],
   "source": []
  },
  {
   "cell_type": "code",
   "execution_count": null,
   "metadata": {
    "collapsed": false
   },
   "outputs": [],
   "source": []
  },
  {
   "cell_type": "code",
   "execution_count": null,
   "metadata": {
    "collapsed": true
   },
   "outputs": [],
   "source": []
  }
 ],
 "metadata": {
  "anaconda-cloud": {},
  "kernelspec": {
   "display_name": "Python [conda env:dsi]",
   "language": "python",
   "name": "conda-env-dsi-py"
  },
  "language_info": {
   "codemirror_mode": {
    "name": "ipython",
    "version": 2
   },
   "file_extension": ".py",
   "mimetype": "text/x-python",
   "name": "python",
   "nbconvert_exporter": "python",
   "pygments_lexer": "ipython2",
   "version": "2.7.12"
  }
 },
 "nbformat": 4,
 "nbformat_minor": 1
}
